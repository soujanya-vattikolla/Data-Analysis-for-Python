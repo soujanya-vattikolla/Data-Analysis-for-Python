{
  "nbformat": 4,
  "nbformat_minor": 0,
  "metadata": {
    "colab": {
      "name": "Pandas exercise.ipynb",
      "provenance": [],
      "collapsed_sections": [],
      "authorship_tag": "ABX9TyM3Ho822FctLEvGAzRhmDZY",
      "include_colab_link": true
    },
    "kernelspec": {
      "name": "python3",
      "display_name": "Python 3"
    },
    "language_info": {
      "name": "python"
    }
  },
  "cells": [
    {
      "cell_type": "markdown",
      "metadata": {
        "id": "view-in-github",
        "colab_type": "text"
      },
      "source": [
        "<a href=\"https://colab.research.google.com/github/soujanya-vattikolla/Data-Analysis-for-Python/blob/main/Pandas%20exercise.ipynb\" target=\"_parent\"><img src=\"https://colab.research.google.com/assets/colab-badge.svg\" alt=\"Open In Colab\"/></a>"
      ]
    },
    {
      "cell_type": "markdown",
      "source": [
        "**Pandas**"
      ],
      "metadata": {
        "id": "UezN0M_llet8"
      }
    },
    {
      "cell_type": "code",
      "source": [
        "# Import the numpy package under the name np\n",
        "import numpy as np\n",
        "\n",
        "# Import the pandas package under the name pd\n",
        "import pandas as pd\n",
        "\n",
        "# Print the pandas version and the configuration\n",
        "print(pd.__version__)"
      ],
      "metadata": {
        "colab": {
          "base_uri": "https://localhost:8080/"
        },
        "id": "LI5WzkGFmWUk",
        "outputId": "fe953bc1-1cdc-4303-d500-10daee8b8961"
      },
      "execution_count": 2,
      "outputs": [
        {
          "output_type": "stream",
          "name": "stdout",
          "text": [
            "1.3.5\n"
          ]
        }
      ]
    },
    {
      "cell_type": "markdown",
      "source": [
        "**Pandas Series exercises**"
      ],
      "metadata": {
        "id": "w4AwAtRhmKGG"
      }
    },
    {
      "cell_type": "code",
      "source": [
        "# defining a series\n",
        "\n",
        "population_series = pd.Series([35.467, 63.951, 80.940, 60.665, 127.061, 64.511, 318.523])\n",
        "population_series"
      ],
      "metadata": {
        "colab": {
          "base_uri": "https://localhost:8080/"
        },
        "id": "MkqpOKn0mK6C",
        "outputId": "f94c22c6-2c5f-4feb-de5a-2dcb7b747185"
      },
      "execution_count": 3,
      "outputs": [
        {
          "output_type": "execute_result",
          "data": {
            "text/plain": [
              "0     35.467\n",
              "1     63.951\n",
              "2     80.940\n",
              "3     60.665\n",
              "4    127.061\n",
              "5     64.511\n",
              "6    318.523\n",
              "dtype: float64"
            ]
          },
          "metadata": {},
          "execution_count": 3
        }
      ]
    },
    {
      "cell_type": "code",
      "source": [
        "# Given the X python list convert it to an Y pandas Series\n",
        "\n",
        "X_pythonlst = ['A', 'B', 'C']\n",
        "print(X_pythonlst,type(X_pythonlst))\n",
        "\n",
        "Y_series = pd.Series(X_pythonlst)\n",
        "print(Y_series,type(Y_series))"
      ],
      "metadata": {
        "colab": {
          "base_uri": "https://localhost:8080/"
        },
        "id": "JDoRkheZtKdl",
        "outputId": "1a202007-5987-49d9-8e33-cb238a8f4f87"
      },
      "execution_count": 4,
      "outputs": [
        {
          "output_type": "stream",
          "name": "stdout",
          "text": [
            "['A', 'B', 'C'] <class 'list'>\n",
            "0    A\n",
            "1    B\n",
            "2    C\n",
            "dtype: object <class 'pandas.core.series.Series'>\n"
          ]
        }
      ]
    },
    {
      "cell_type": "markdown",
      "source": [
        "Series indexation"
      ],
      "metadata": {
        "id": "9FdRJkaWuzyJ"
      }
    },
    {
      "cell_type": "code",
      "source": [
        "# Assign index names to the given X pandas Series\n",
        "\n",
        "X_series = pd.Series(['A','B','C'])\n",
        "index_names = ['First','Second','Third']\n",
        "\n",
        "X_series.index = index_names\n",
        "X_series"
      ],
      "metadata": {
        "id": "3Fd4lXgFtKhQ",
        "colab": {
          "base_uri": "https://localhost:8080/"
        },
        "outputId": "bf3a2590-773d-4771-8713-8566fe24355d"
      },
      "execution_count": 5,
      "outputs": [
        {
          "output_type": "execute_result",
          "data": {
            "text/plain": [
              "First     A\n",
              "Second    B\n",
              "Third     C\n",
              "dtype: object"
            ]
          },
          "metadata": {},
          "execution_count": 5
        }
      ]
    },
    {
      "cell_type": "code",
      "source": [
        "# Given the X pandas Series, show its first element\n",
        "\n",
        "X_first = pd.Series(['A','B','C'], index=['One','Two','Three'])\n",
        "\n",
        "print(X_first['One'])\n",
        "\n",
        "print(X_first.iloc[0])"
      ],
      "metadata": {
        "id": "b1WWR4yUtKkM",
        "colab": {
          "base_uri": "https://localhost:8080/"
        },
        "outputId": "e55ca809-1dc9-43b2-9786-60b1f413f3d5"
      },
      "execution_count": 10,
      "outputs": [
        {
          "output_type": "stream",
          "name": "stdout",
          "text": [
            "A\n",
            "A\n"
          ]
        }
      ]
    },
    {
      "cell_type": "code",
      "source": [
        "# Given the X pandas Series, show all middle elements\n",
        "\n",
        "X_middle = pd.Series(['A','B','C'], index=['One','Two','Three'])\n",
        "\n",
        "print(X_middle['Two'])\n"
      ],
      "metadata": {
        "id": "Z9LD6s3rtKnI",
        "colab": {
          "base_uri": "https://localhost:8080/"
        },
        "outputId": "86dbeada-0724-45ed-96db-d48a189894e9"
      },
      "execution_count": 12,
      "outputs": [
        {
          "output_type": "stream",
          "name": "stdout",
          "text": [
            "B\n"
          ]
        }
      ]
    },
    {
      "cell_type": "markdown",
      "source": [
        "**Series manipulation**"
      ],
      "metadata": {
        "id": "icVa8NC_SDiL"
      }
    },
    {
      "cell_type": "code",
      "source": [
        "# Convert the given integer pandas Series to float\n",
        "\n",
        "X_float = pd.Series([1,2,3,4,5],dtype=float)\n",
        "\n",
        "X_float\n"
      ],
      "metadata": {
        "colab": {
          "base_uri": "https://localhost:8080/"
        },
        "id": "XceOfbMnRBrk",
        "outputId": "85ae3db2-4529-4946-e0bf-5432ffebd276"
      },
      "execution_count": 14,
      "outputs": [
        {
          "output_type": "execute_result",
          "data": {
            "text/plain": [
              "0    1.0\n",
              "1    2.0\n",
              "2    3.0\n",
              "3    4.0\n",
              "4    5.0\n",
              "dtype: float64"
            ]
          },
          "metadata": {},
          "execution_count": 14
        }
      ]
    },
    {
      "cell_type": "code",
      "source": [
        "# Given the X pandas Series, change all the middle elements to 0\n",
        "\n",
        "X_middle = pd.Series([1,2,3,4,5],index=['First','Second','Third','Fourth','Fifth'])\n",
        "X_middle[1:-1] = 0\n",
        "X_middle"
      ],
      "metadata": {
        "colab": {
          "base_uri": "https://localhost:8080/"
        },
        "id": "08px2GNzSV5F",
        "outputId": "1be331cc-d69e-4e16-88ec-01fec43711e0"
      },
      "execution_count": 16,
      "outputs": [
        {
          "output_type": "execute_result",
          "data": {
            "text/plain": [
              "First     1\n",
              "Second    0\n",
              "Third     0\n",
              "Fourth    0\n",
              "Fifth     5\n",
              "dtype: int64"
            ]
          },
          "metadata": {},
          "execution_count": 16
        }
      ]
    },
    {
      "cell_type": "code",
      "source": [
        "# Given the X pandas Series, get numbers higher than the elements mean\n",
        "\n",
        "X_high = pd.Series([-1,2,0,-4,5,6,0,0,-9,10])\n",
        "\n",
        "mask = X_high > X_high.mean()\n",
        "mask"
      ],
      "metadata": {
        "colab": {
          "base_uri": "https://localhost:8080/"
        },
        "id": "kJd9tTipSV8F",
        "outputId": "d8213482-3338-4079-851b-a5625e3b337a"
      },
      "execution_count": 17,
      "outputs": [
        {
          "output_type": "execute_result",
          "data": {
            "text/plain": [
              "0    False\n",
              "1     True\n",
              "2    False\n",
              "3    False\n",
              "4     True\n",
              "5     True\n",
              "6    False\n",
              "7    False\n",
              "8    False\n",
              "9     True\n",
              "dtype: bool"
            ]
          },
          "metadata": {},
          "execution_count": 17
        }
      ]
    },
    {
      "cell_type": "code",
      "source": [
        ""
      ],
      "metadata": {
        "id": "P9q6EyubSV-3"
      },
      "execution_count": null,
      "outputs": []
    },
    {
      "cell_type": "code",
      "source": [
        ""
      ],
      "metadata": {
        "id": "Fxjp1jxkRCN4"
      },
      "execution_count": null,
      "outputs": []
    }
  ]
}