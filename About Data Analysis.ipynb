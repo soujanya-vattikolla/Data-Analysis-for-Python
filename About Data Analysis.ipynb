{
  "nbformat": 4,
  "nbformat_minor": 0,
  "metadata": {
    "colab": {
      "name": "About Data Analysis .ipynb",
      "provenance": [],
      "collapsed_sections": [],
      "authorship_tag": "ABX9TyM1Ndi0S+0ne2egc/+74YNO",
      "include_colab_link": true
    },
    "kernelspec": {
      "name": "python3",
      "display_name": "Python 3"
    },
    "language_info": {
      "name": "python"
    }
  },
  "cells": [
    {
      "cell_type": "markdown",
      "metadata": {
        "id": "view-in-github",
        "colab_type": "text"
      },
      "source": [
        "<a href=\"https://colab.research.google.com/github/soujanya-vattikolla/Data-Analysis-for-Python/blob/main/About%20Data%20Analysis.ipynb\" target=\"_parent\"><img src=\"https://colab.research.google.com/assets/colab-badge.svg\" alt=\"Open In Colab\"/></a>"
      ]
    },
    {
      "cell_type": "markdown",
      "source": [
        "**What is Data Analysis?**"
      ],
      "metadata": {
        "id": "cqGfXRqKnMmP"
      }
    },
    {
      "cell_type": "markdown",
      "source": [
        "Data analysis is defined as a process of cleaning, transforming, and modeling data to discover useful information for business decision-making."
      ],
      "metadata": {
        "id": "IpfCeYQxnKIH"
      }
    },
    {
      "cell_type": "markdown",
      "source": [
        "**Data Analysis Tools**<br>\n",
        "\n",
        "**Auto-managed closed tools**<br>\n",
        "Ex:\n",
        "1.   Excel\n",
        "2.   Tableau\n",
        "\n",
        "**Programming Languages**<br>\n",
        "Ex: \n",
        "\n",
        "\n",
        "1. Python\n",
        "2. R\n",
        "\n",
        "\n",
        "\n",
        "\n"
      ],
      "metadata": {
        "id": "0ubcmz0Enxy2"
      }
    },
    {
      "cell_type": "markdown",
      "source": [
        "**The Data Analysis Process**\n",
        "\n",
        "\n",
        "*   Data Extraction\n",
        "\n",
        "*   Data Cleaning\n",
        "\n",
        "\n",
        "*   Data Wrangling\n",
        "\n",
        "*   Analysis\n",
        "\n",
        "\n",
        "*   Action\n",
        "\n",
        "\n",
        "\n",
        "\n",
        "\n",
        "\n",
        "\n",
        "\n",
        "\n",
        "\n"
      ],
      "metadata": {
        "id": "dT_xQjmLoJGb"
      }
    }
  ]
}