{
  "nbformat": 4,
  "nbformat_minor": 0,
  "metadata": {
    "colab": {
      "name": "Numpy.ipynb",
      "provenance": [],
      "collapsed_sections": [],
      "authorship_tag": "ABX9TyNRrrS2yP6sVwEgOwHCxIsF",
      "include_colab_link": true
    },
    "kernelspec": {
      "name": "python3",
      "display_name": "Python 3"
    },
    "language_info": {
      "name": "python"
    }
  },
  "cells": [
    {
      "cell_type": "markdown",
      "metadata": {
        "id": "view-in-github",
        "colab_type": "text"
      },
      "source": [
        "<a href=\"https://colab.research.google.com/github/soujanya-vattikolla/Data-Analysis-for-Python/blob/main/Numpy.ipynb\" target=\"_parent\"><img src=\"https://colab.research.google.com/assets/colab-badge.svg\" alt=\"Open In Colab\"/></a>"
      ]
    },
    {
      "cell_type": "code",
      "source": [
        "import numpy as np"
      ],
      "metadata": {
        "id": "b2kKgIuBnl-7"
      },
      "execution_count": 1,
      "outputs": []
    },
    {
      "cell_type": "markdown",
      "source": [
        "**Basic Numpy Arrays**"
      ],
      "metadata": {
        "id": "Pxq9cVkLuwas"
      }
    },
    {
      "cell_type": "code",
      "source": [
        "# creating a array\n",
        "\n",
        "array_a = np.array([1,2,3,4,5])\n",
        "array_a"
      ],
      "metadata": {
        "colab": {
          "base_uri": "https://localhost:8080/"
        },
        "id": "DERaDJy3uqBd",
        "outputId": "0fc66825-1809-4f4c-8993-a783c7093065"
      },
      "execution_count": 2,
      "outputs": [
        {
          "output_type": "execute_result",
          "data": {
            "text/plain": [
              "array([1, 2, 3, 4, 5])"
            ]
          },
          "metadata": {},
          "execution_count": 2
        }
      ]
    },
    {
      "cell_type": "code",
      "source": [
        "# accessing the values in the numpy array\n",
        "\n",
        "print(array_a[1])\n",
        "print(array_a[3])"
      ],
      "metadata": {
        "colab": {
          "base_uri": "https://localhost:8080/"
        },
        "id": "QW6RDattvIqM",
        "outputId": "58c66086-59ea-4eb6-fc48-d0506ed9bac3"
      },
      "execution_count": 3,
      "outputs": [
        {
          "output_type": "stream",
          "name": "stdout",
          "text": [
            "2\n",
            "4\n"
          ]
        }
      ]
    },
    {
      "cell_type": "code",
      "source": [
        "# slicing the array\n",
        "\n",
        "print(array_a[0:])"
      ],
      "metadata": {
        "colab": {
          "base_uri": "https://localhost:8080/"
        },
        "id": "QdrC-b-RvTIH",
        "outputId": "a154c2b6-c76d-4574-83b9-80af2d041a45"
      },
      "execution_count": 4,
      "outputs": [
        {
          "output_type": "stream",
          "name": "stdout",
          "text": [
            "[1 2 3 4 5]\n"
          ]
        }
      ]
    },
    {
      "cell_type": "code",
      "source": [
        "# slicing the array with negative index\n",
        "print(array_a[2:-1])"
      ],
      "metadata": {
        "colab": {
          "base_uri": "https://localhost:8080/"
        },
        "id": "KWNfTe7gvTLB",
        "outputId": "ebfe85ba-c209-4e93-9023-f8d9a89d0d7d"
      },
      "execution_count": 5,
      "outputs": [
        {
          "output_type": "stream",
          "name": "stdout",
          "text": [
            "[3 4]\n"
          ]
        }
      ]
    },
    {
      "cell_type": "code",
      "source": [
        "# creating a array with decimal numbers\n",
        "array_b = np.array([0., 0.5, 1., 1.5, 3])\n",
        "array_b"
      ],
      "metadata": {
        "colab": {
          "base_uri": "https://localhost:8080/"
        },
        "id": "RV9cy0SfvTNO",
        "outputId": "9c719b9d-8172-4e4f-a0bc-adeda7ac0fe1"
      },
      "execution_count": 6,
      "outputs": [
        {
          "output_type": "execute_result",
          "data": {
            "text/plain": [
              "array([0. , 0.5, 1. , 1.5, 3. ])"
            ]
          },
          "metadata": {},
          "execution_count": 6
        }
      ]
    },
    {
      "cell_type": "code",
      "source": [
        "# multiindexing to access the values\n",
        "array_b[ [0,2,-1] ]"
      ],
      "metadata": {
        "colab": {
          "base_uri": "https://localhost:8080/"
        },
        "id": "YjUeYWfI6FqT",
        "outputId": "657f50af-a77d-49c4-fed6-6333785741df"
      },
      "execution_count": 7,
      "outputs": [
        {
          "output_type": "execute_result",
          "data": {
            "text/plain": [
              "array([0., 1., 3.])"
            ]
          },
          "metadata": {},
          "execution_count": 7
        }
      ]
    },
    {
      "cell_type": "markdown",
      "source": [
        "**Array Types**"
      ],
      "metadata": {
        "id": "MzqvkWbV-I9_"
      }
    },
    {
      "cell_type": "code",
      "source": [
        "# to check data type of the array\n",
        "array_a.dtype"
      ],
      "metadata": {
        "colab": {
          "base_uri": "https://localhost:8080/"
        },
        "id": "jPsSrnrO-GYL",
        "outputId": "3209312a-c9dd-4302-c1b5-5272792656bf"
      },
      "execution_count": 8,
      "outputs": [
        {
          "output_type": "execute_result",
          "data": {
            "text/plain": [
              "dtype('int64')"
            ]
          },
          "metadata": {},
          "execution_count": 8
        }
      ]
    },
    {
      "cell_type": "code",
      "source": [
        "array_b.dtype"
      ],
      "metadata": {
        "colab": {
          "base_uri": "https://localhost:8080/"
        },
        "id": "nreLZrdw-1dU",
        "outputId": "98bf0dad-d28b-4801-e605-3a879b0bfcd6"
      },
      "execution_count": 9,
      "outputs": [
        {
          "output_type": "execute_result",
          "data": {
            "text/plain": [
              "dtype('float64')"
            ]
          },
          "metadata": {},
          "execution_count": 9
        }
      ]
    },
    {
      "cell_type": "code",
      "source": [
        "# we can assign the datatype while declaring the array\n",
        "array_c = np.array([5,6,7,10], dtype=np.int8)\n",
        "array_c"
      ],
      "metadata": {
        "colab": {
          "base_uri": "https://localhost:8080/"
        },
        "id": "3kFun66E-7wp",
        "outputId": "92cc3e63-c8b1-40a9-8459-f208e8f843f6"
      },
      "execution_count": 10,
      "outputs": [
        {
          "output_type": "execute_result",
          "data": {
            "text/plain": [
              "array([ 5,  6,  7, 10], dtype=int8)"
            ]
          },
          "metadata": {},
          "execution_count": 10
        }
      ]
    },
    {
      "cell_type": "markdown",
      "source": [
        "**Dimensions and shapes**"
      ],
      "metadata": {
        "id": "qKKE4a_VEbpB"
      }
    },
    {
      "cell_type": "code",
      "source": [
        "# creating a multidimensional arrays\n",
        "# creating a 2 dimensional array\n",
        "\n",
        "twodimarray = np.array([ [7,8,9],\n",
        "                       [10,11,12]])\n",
        "twodimarray"
      ],
      "metadata": {
        "colab": {
          "base_uri": "https://localhost:8080/"
        },
        "id": "XIYFxQAi-8Bi",
        "outputId": "d7b445d3-438b-45c8-9dbd-51b2d53a7028"
      },
      "execution_count": 11,
      "outputs": [
        {
          "output_type": "execute_result",
          "data": {
            "text/plain": [
              "array([[ 7,  8,  9],\n",
              "       [10, 11, 12]])"
            ]
          },
          "metadata": {},
          "execution_count": 11
        }
      ]
    },
    {
      "cell_type": "code",
      "source": [
        "# to know the shape of the multidimensional arrays\n",
        "# number of rows and number of columns\n",
        "twodimarray.shape\n"
      ],
      "metadata": {
        "colab": {
          "base_uri": "https://localhost:8080/"
        },
        "id": "0av32ayMEyO4",
        "outputId": "f45bbdcb-d5c0-444e-f9d4-b0c4d83db3ac"
      },
      "execution_count": 12,
      "outputs": [
        {
          "output_type": "execute_result",
          "data": {
            "text/plain": [
              "(2, 3)"
            ]
          },
          "metadata": {},
          "execution_count": 12
        }
      ]
    },
    {
      "cell_type": "code",
      "source": [
        "# size of the multidimensional arrays\n",
        "twodimarray.size"
      ],
      "metadata": {
        "colab": {
          "base_uri": "https://localhost:8080/"
        },
        "id": "EJ2rtfRUEyRk",
        "outputId": "46098569-1cdb-4ea5-df63-82ebb079d548"
      },
      "execution_count": 13,
      "outputs": [
        {
          "output_type": "execute_result",
          "data": {
            "text/plain": [
              "6"
            ]
          },
          "metadata": {},
          "execution_count": 13
        }
      ]
    },
    {
      "cell_type": "code",
      "source": [
        "# creating a 3 Dimensional array\n",
        "threedimarray = np.array([\n",
        "                         [ [5,7,8],\n",
        "                          [1,4,5],\n",
        "                          ],\n",
        "                        [  [10,20,30],\n",
        "                          [40,50,60],\n",
        "                        ],\n",
        "                        ])"
      ],
      "metadata": {
        "id": "D1fk2mXcE6Pe"
      },
      "execution_count": 14,
      "outputs": []
    },
    {
      "cell_type": "code",
      "source": [
        "threedimarray \n"
      ],
      "metadata": {
        "colab": {
          "base_uri": "https://localhost:8080/"
        },
        "id": "IC5c8TZaE6SO",
        "outputId": "1ea746eb-94fd-47b8-8865-10ed58ef61b9"
      },
      "execution_count": 15,
      "outputs": [
        {
          "output_type": "execute_result",
          "data": {
            "text/plain": [
              "array([[[ 5,  7,  8],\n",
              "        [ 1,  4,  5]],\n",
              "\n",
              "       [[10, 20, 30],\n",
              "        [40, 50, 60]]])"
            ]
          },
          "metadata": {},
          "execution_count": 15
        }
      ]
    },
    {
      "cell_type": "code",
      "source": [
        "# shape of 3 dimensional array\n",
        "\n",
        "threedimarray.shape"
      ],
      "metadata": {
        "colab": {
          "base_uri": "https://localhost:8080/"
        },
        "id": "x1XBH7_2E6U3",
        "outputId": "74027305-4004-4c2a-94d2-b17d81a2fa9c"
      },
      "execution_count": 16,
      "outputs": [
        {
          "output_type": "execute_result",
          "data": {
            "text/plain": [
              "(2, 2, 3)"
            ]
          },
          "metadata": {},
          "execution_count": 16
        }
      ]
    },
    {
      "cell_type": "code",
      "source": [
        "# size of 3 dimensional array\n",
        "\n",
        "threedimarray.size\n"
      ],
      "metadata": {
        "colab": {
          "base_uri": "https://localhost:8080/"
        },
        "id": "oJlbviLmEyUS",
        "outputId": "8d6b4d20-09cf-4047-acbe-732c82db112c"
      },
      "execution_count": 17,
      "outputs": [
        {
          "output_type": "execute_result",
          "data": {
            "text/plain": [
              "12"
            ]
          },
          "metadata": {},
          "execution_count": 17
        }
      ]
    },
    {
      "cell_type": "markdown",
      "source": [
        "**Indexing and Slicing of Matrices**"
      ],
      "metadata": {
        "id": "RfOJI94k9XJv"
      }
    },
    {
      "cell_type": "code",
      "source": [
        "# Square matrix\n",
        "matrix_index =  np.array([\n",
        "                          #.   0. 1. 2\n",
        "                              [1, 2, 3], # 0\n",
        "                              [4, 5, 6], # 1\n",
        "                              [7, 8, 9]  # 2\n",
        "])"
      ],
      "metadata": {
        "id": "ktJ27JCB9JUF"
      },
      "execution_count": 18,
      "outputs": []
    },
    {
      "cell_type": "code",
      "source": [
        "matrix_index[2]"
      ],
      "metadata": {
        "colab": {
          "base_uri": "https://localhost:8080/"
        },
        "id": "m3Gam3Ac9JXs",
        "outputId": "3ddff977-639f-4c0c-c296-b19c02662ce3"
      },
      "execution_count": 19,
      "outputs": [
        {
          "output_type": "execute_result",
          "data": {
            "text/plain": [
              "array([7, 8, 9])"
            ]
          },
          "metadata": {},
          "execution_count": 19
        }
      ]
    },
    {
      "cell_type": "code",
      "source": [
        "# we are acessing the value at the 2nd row and 1st column\n",
        "matrix_index[2][1]"
      ],
      "metadata": {
        "colab": {
          "base_uri": "https://localhost:8080/"
        },
        "id": "DfXpQLRx9Jan",
        "outputId": "706d859d-50e2-4996-a689-e898a9cbc419"
      },
      "execution_count": 20,
      "outputs": [
        {
          "output_type": "execute_result",
          "data": {
            "text/plain": [
              "8"
            ]
          },
          "metadata": {},
          "execution_count": 20
        }
      ]
    },
    {
      "cell_type": "code",
      "source": [
        "# slicing the matrix\n",
        "matrix_slice = np.array([\n",
        "                         [10,20,30],\n",
        "                         [40,50,70],\n",
        "                         [80,90,100]\n",
        "                         ])"
      ],
      "metadata": {
        "id": "ThndLVNU-hpV"
      },
      "execution_count": 21,
      "outputs": []
    },
    {
      "cell_type": "code",
      "source": [
        "# accessing the elements from 0 to 2nd row\n",
        "matrix_slice[:2]"
      ],
      "metadata": {
        "colab": {
          "base_uri": "https://localhost:8080/"
        },
        "id": "cM8y_Twu-hsy",
        "outputId": "64080ca7-d717-48b0-d0d8-83b5d84c50b6"
      },
      "execution_count": 22,
      "outputs": [
        {
          "output_type": "execute_result",
          "data": {
            "text/plain": [
              "array([[10, 20, 30],\n",
              "       [40, 50, 70]])"
            ]
          },
          "metadata": {},
          "execution_count": 22
        }
      ]
    },
    {
      "cell_type": "code",
      "source": [
        "# accessing the elements from 0 and 1st column\n",
        "matrix_slice[:,:2]"
      ],
      "metadata": {
        "colab": {
          "base_uri": "https://localhost:8080/"
        },
        "id": "5X-2kBRJ_GD6",
        "outputId": "7eb32d62-1420-4c54-b37f-026c5dd2cd8f"
      },
      "execution_count": 23,
      "outputs": [
        {
          "output_type": "execute_result",
          "data": {
            "text/plain": [
              "array([[10, 20],\n",
              "       [40, 50],\n",
              "       [80, 90]])"
            ]
          },
          "metadata": {},
          "execution_count": 23
        }
      ]
    },
    {
      "cell_type": "code",
      "source": [
        "matrix_assign = np.array([\n",
        "                          [7,4,1],\n",
        "                          [8,5,2],\n",
        "                          [9,6,3]\n",
        "])"
      ],
      "metadata": {
        "id": "Y6IDjK9P_GGr"
      },
      "execution_count": 24,
      "outputs": []
    },
    {
      "cell_type": "code",
      "source": [
        "# assigning new values to 2nd row\n",
        "matrix_assign[1] = np.array([20,20,20])\n",
        "matrix_assign"
      ],
      "metadata": {
        "colab": {
          "base_uri": "https://localhost:8080/"
        },
        "id": "aeCxG_Pk_GJh",
        "outputId": "56ef6dc6-5206-4cc0-f1a1-17549bafcb78"
      },
      "execution_count": 25,
      "outputs": [
        {
          "output_type": "execute_result",
          "data": {
            "text/plain": [
              "array([[ 7,  4,  1],\n",
              "       [20, 20, 20],\n",
              "       [ 9,  6,  3]])"
            ]
          },
          "metadata": {},
          "execution_count": 25
        }
      ]
    },
    {
      "cell_type": "code",
      "source": [
        "# assigning new values to 1st row\n",
        "matrix_assign[0] = 100\n",
        "matrix_assign"
      ],
      "metadata": {
        "colab": {
          "base_uri": "https://localhost:8080/"
        },
        "id": "W4kpJxEBAP9u",
        "outputId": "ff310755-c277-4f4b-e41a-03ee37a66562"
      },
      "execution_count": 26,
      "outputs": [
        {
          "output_type": "execute_result",
          "data": {
            "text/plain": [
              "array([[100, 100, 100],\n",
              "       [ 20,  20,  20],\n",
              "       [  9,   6,   3]])"
            ]
          },
          "metadata": {},
          "execution_count": 26
        }
      ]
    },
    {
      "cell_type": "markdown",
      "source": [
        "**Statistics Summary**"
      ],
      "metadata": {
        "id": "LdJQl3LCAcbQ"
      }
    },
    {
      "cell_type": "code",
      "source": [
        "stats_a = np.array([50,60,70])\n",
        "stats_a"
      ],
      "metadata": {
        "colab": {
          "base_uri": "https://localhost:8080/"
        },
        "id": "RMYe0TN8AQAr",
        "outputId": "a3886dc9-bd9d-4fb2-9aed-0745caf4f127"
      },
      "execution_count": 27,
      "outputs": [
        {
          "output_type": "execute_result",
          "data": {
            "text/plain": [
              "array([50, 60, 70])"
            ]
          },
          "metadata": {},
          "execution_count": 27
        }
      ]
    },
    {
      "cell_type": "code",
      "source": [
        "# mean of the array\n",
        "stats_a.mean()"
      ],
      "metadata": {
        "colab": {
          "base_uri": "https://localhost:8080/"
        },
        "id": "1Ye9h8xJAQC8",
        "outputId": "5782e90e-a3c3-472b-8b79-7d6b5e28124d"
      },
      "execution_count": 28,
      "outputs": [
        {
          "output_type": "execute_result",
          "data": {
            "text/plain": [
              "60.0"
            ]
          },
          "metadata": {},
          "execution_count": 28
        }
      ]
    },
    {
      "cell_type": "code",
      "source": [
        "# sum of the array\n",
        "stats_a.sum()"
      ],
      "metadata": {
        "colab": {
          "base_uri": "https://localhost:8080/"
        },
        "id": "aG2_sMWcA7mH",
        "outputId": "401e2388-908e-43b0-f76f-92a973a12332"
      },
      "execution_count": 29,
      "outputs": [
        {
          "output_type": "execute_result",
          "data": {
            "text/plain": [
              "180"
            ]
          },
          "metadata": {},
          "execution_count": 29
        }
      ]
    },
    {
      "cell_type": "code",
      "source": [
        "stats_b = np.array([\n",
        "                    [7,8,9],\n",
        "                    [4,5,6],\n",
        "                    [1,2,3]\n",
        "])"
      ],
      "metadata": {
        "id": "D75WlelSA7pB"
      },
      "execution_count": 30,
      "outputs": []
    },
    {
      "cell_type": "code",
      "source": [
        "# sum of the values along the row elements\n",
        "stats_b.sum(axis=0)"
      ],
      "metadata": {
        "colab": {
          "base_uri": "https://localhost:8080/"
        },
        "id": "1dphz6B4A7ru",
        "outputId": "06cbd027-4b38-4739-fb5c-5d993187ced0"
      },
      "execution_count": 31,
      "outputs": [
        {
          "output_type": "execute_result",
          "data": {
            "text/plain": [
              "array([12, 15, 18])"
            ]
          },
          "metadata": {},
          "execution_count": 31
        }
      ]
    },
    {
      "cell_type": "code",
      "source": [
        "# mean of the values along the column elements\n",
        "stats_b.mean(axis=1)"
      ],
      "metadata": {
        "colab": {
          "base_uri": "https://localhost:8080/"
        },
        "id": "ceKPBMreBVDQ",
        "outputId": "f199b6ce-7729-4292-9c1f-9850ffcbf4d7"
      },
      "execution_count": 32,
      "outputs": [
        {
          "output_type": "execute_result",
          "data": {
            "text/plain": [
              "array([8., 5., 2.])"
            ]
          },
          "metadata": {},
          "execution_count": 32
        }
      ]
    },
    {
      "cell_type": "markdown",
      "source": [
        "**Broadcasting and Vectorized operations**"
      ],
      "metadata": {
        "id": "zA0zFjm-B6mv"
      }
    },
    {
      "cell_type": "code",
      "source": [
        "# creating a array with range of 5\n",
        "broadcast_array = np.arange(5)\n",
        "broadcast_array"
      ],
      "metadata": {
        "colab": {
          "base_uri": "https://localhost:8080/"
        },
        "id": "5Tty8MawBVmx",
        "outputId": "b857c2f8-1aa7-4ad2-9d7b-100d5aaca0b2"
      },
      "execution_count": 33,
      "outputs": [
        {
          "output_type": "execute_result",
          "data": {
            "text/plain": [
              "array([0, 1, 2, 3, 4])"
            ]
          },
          "metadata": {},
          "execution_count": 33
        }
      ]
    },
    {
      "cell_type": "code",
      "source": [
        "# multiplying array by 100\n",
        "broadcast_array*100"
      ],
      "metadata": {
        "colab": {
          "base_uri": "https://localhost:8080/"
        },
        "id": "43NHe9cCB8Mb",
        "outputId": "5f66131f-c7a8-47b0-e839-fbf8b74a61f7"
      },
      "execution_count": 34,
      "outputs": [
        {
          "output_type": "execute_result",
          "data": {
            "text/plain": [
              "array([  0, 100, 200, 300, 400])"
            ]
          },
          "metadata": {},
          "execution_count": 34
        }
      ]
    },
    {
      "cell_type": "code",
      "source": [
        "# adding 20 to the array\n",
        "broadcast_array+= 20\n",
        "broadcast_array"
      ],
      "metadata": {
        "colab": {
          "base_uri": "https://localhost:8080/"
        },
        "id": "Z6CP_9wPB8PG",
        "outputId": "f907817c-7ddc-42a0-d80b-9781359d8fdc"
      },
      "execution_count": 35,
      "outputs": [
        {
          "output_type": "execute_result",
          "data": {
            "text/plain": [
              "array([20, 21, 22, 23, 24])"
            ]
          },
          "metadata": {},
          "execution_count": 35
        }
      ]
    },
    {
      "cell_type": "code",
      "source": [
        "broadcast_array_a = np.arange(4)\n",
        "broadcast_array_a"
      ],
      "metadata": {
        "colab": {
          "base_uri": "https://localhost:8080/"
        },
        "id": "sFsgV9uqDg1o",
        "outputId": "26f1fcfb-de45-4e9b-c95a-b8d10ae06b76"
      },
      "execution_count": 36,
      "outputs": [
        {
          "output_type": "execute_result",
          "data": {
            "text/plain": [
              "array([0, 1, 2, 3])"
            ]
          },
          "metadata": {},
          "execution_count": 36
        }
      ]
    },
    {
      "cell_type": "code",
      "source": [
        "broadcast_array_b = np.array([20,30,40,50])\n",
        "broadcast_array_b"
      ],
      "metadata": {
        "colab": {
          "base_uri": "https://localhost:8080/"
        },
        "id": "RDDUArNfB8RZ",
        "outputId": "543618e0-bf59-4f09-d516-625640566316"
      },
      "execution_count": 37,
      "outputs": [
        {
          "output_type": "execute_result",
          "data": {
            "text/plain": [
              "array([20, 30, 40, 50])"
            ]
          },
          "metadata": {},
          "execution_count": 37
        }
      ]
    },
    {
      "cell_type": "code",
      "source": [
        "# adding two arrays\n",
        "broadcast_array_a + broadcast_array_b"
      ],
      "metadata": {
        "colab": {
          "base_uri": "https://localhost:8080/"
        },
        "id": "_TTTz8jrB8T1",
        "outputId": "3941f4df-cdeb-446c-cb90-5c61b7c1e761"
      },
      "execution_count": 38,
      "outputs": [
        {
          "output_type": "execute_result",
          "data": {
            "text/plain": [
              "array([20, 31, 42, 53])"
            ]
          },
          "metadata": {},
          "execution_count": 38
        }
      ]
    },
    {
      "cell_type": "markdown",
      "source": [
        "**Boolean arrays**"
      ],
      "metadata": {
        "id": "lmb2vceyDxsg"
      }
    },
    {
      "cell_type": "code",
      "source": [
        "boolean_array = np.arange(4)\n",
        "boolean_array"
      ],
      "metadata": {
        "colab": {
          "base_uri": "https://localhost:8080/"
        },
        "id": "WrjNAU_pB8WD",
        "outputId": "b5b8d0ce-8978-450a-dba7-f9a768e091a3"
      },
      "execution_count": 39,
      "outputs": [
        {
          "output_type": "execute_result",
          "data": {
            "text/plain": [
              "array([0, 1, 2, 3])"
            ]
          },
          "metadata": {},
          "execution_count": 39
        }
      ]
    },
    {
      "cell_type": "code",
      "source": [
        "# check the elements >= 2\n",
        "boolean_array>=2\n"
      ],
      "metadata": {
        "colab": {
          "base_uri": "https://localhost:8080/"
        },
        "id": "9amPWMjgDzv9",
        "outputId": "76094a9d-20eb-4713-f557-f8a8bbfa6211"
      },
      "execution_count": 40,
      "outputs": [
        {
          "output_type": "execute_result",
          "data": {
            "text/plain": [
              "array([False, False,  True,  True])"
            ]
          },
          "metadata": {},
          "execution_count": 40
        }
      ]
    },
    {
      "cell_type": "code",
      "source": [
        "boolean_array.mean()"
      ],
      "metadata": {
        "colab": {
          "base_uri": "https://localhost:8080/"
        },
        "id": "BZOSHn7dD0Se",
        "outputId": "98d88a0e-93eb-43d7-9d50-5508e8c92f0d"
      },
      "execution_count": 41,
      "outputs": [
        {
          "output_type": "execute_result",
          "data": {
            "text/plain": [
              "1.5"
            ]
          },
          "metadata": {},
          "execution_count": 41
        }
      ]
    },
    {
      "cell_type": "code",
      "source": [
        "# check the elements > mean(1.5)\n",
        "boolean_array[boolean_array > boolean_array.mean()]"
      ],
      "metadata": {
        "colab": {
          "base_uri": "https://localhost:8080/"
        },
        "id": "sTGy1Rp6B8Yq",
        "outputId": "4cf9ce52-3456-4234-adec-40e9a2518834"
      },
      "execution_count": 42,
      "outputs": [
        {
          "output_type": "execute_result",
          "data": {
            "text/plain": [
              "array([2, 3])"
            ]
          },
          "metadata": {},
          "execution_count": 42
        }
      ]
    },
    {
      "cell_type": "code",
      "source": [
        "# creating a array with random numbers\n",
        "boolean_array_a = np.random.randint(50,size=(2,2))\n",
        "boolean_array_a"
      ],
      "metadata": {
        "colab": {
          "base_uri": "https://localhost:8080/"
        },
        "id": "a_uZqiGREpjP",
        "outputId": "dc9e4bcb-6c74-4c19-f002-453a71fd0281"
      },
      "execution_count": 43,
      "outputs": [
        {
          "output_type": "execute_result",
          "data": {
            "text/plain": [
              "array([[ 4,  7],\n",
              "       [12, 34]])"
            ]
          },
          "metadata": {},
          "execution_count": 43
        }
      ]
    },
    {
      "cell_type": "code",
      "source": [
        "# check the elements >= 20 in the array\n",
        "boolean_array_a >= 20"
      ],
      "metadata": {
        "colab": {
          "base_uri": "https://localhost:8080/"
        },
        "id": "rZCtUT6IEplw",
        "outputId": "54531ad9-4039-4d71-b50c-413ad568d6ba"
      },
      "execution_count": 44,
      "outputs": [
        {
          "output_type": "execute_result",
          "data": {
            "text/plain": [
              "array([[False, False],\n",
              "       [False,  True]])"
            ]
          },
          "metadata": {},
          "execution_count": 44
        }
      ]
    },
    {
      "cell_type": "markdown",
      "source": [
        "**Linear Algebra**"
      ],
      "metadata": {
        "id": "wLdTyrX4FQ32"
      }
    },
    {
      "cell_type": "code",
      "source": [
        "linear_array_a = np.array([\n",
        "                           [7,4,1],\n",
        "                           [8,5,2],\n",
        "                           [9,6,3]\n",
        "])"
      ],
      "metadata": {
        "id": "oFZahfZeEpn7"
      },
      "execution_count": 45,
      "outputs": []
    },
    {
      "cell_type": "code",
      "source": [
        "linear_array_b = np.array([\n",
        "                           [6,1],\n",
        "                           [8,2],\n",
        "                           [9,1]\n",
        "                           ])"
      ],
      "metadata": {
        "id": "CAymo5TnFNOB"
      },
      "execution_count": 46,
      "outputs": []
    },
    {
      "cell_type": "code",
      "source": [
        "# Transposing the matrix\n",
        "linear_array_b.T"
      ],
      "metadata": {
        "colab": {
          "base_uri": "https://localhost:8080/"
        },
        "id": "EJuo9lB1FtPm",
        "outputId": "0b036541-31f9-4688-aa8b-f302b8c50bc0"
      },
      "execution_count": 47,
      "outputs": [
        {
          "output_type": "execute_result",
          "data": {
            "text/plain": [
              "array([[6, 8, 9],\n",
              "       [1, 2, 1]])"
            ]
          },
          "metadata": {},
          "execution_count": 47
        }
      ]
    },
    {
      "cell_type": "markdown",
      "source": [
        "**Size of objects in Memory**"
      ],
      "metadata": {
        "id": "hf8jdUniGJK1"
      }
    },
    {
      "cell_type": "code",
      "source": [
        "import sys"
      ],
      "metadata": {
        "id": "BiL2rP-nGMpE"
      },
      "execution_count": 48,
      "outputs": []
    },
    {
      "cell_type": "code",
      "source": [
        "# An integer in Python is > 24bytes\n",
        "sys.getsizeof(1)"
      ],
      "metadata": {
        "colab": {
          "base_uri": "https://localhost:8080/"
        },
        "id": "C4jo04OBGIqb",
        "outputId": "f80e91c6-e7f8-460d-d58c-eaa208d5e8f2"
      },
      "execution_count": 49,
      "outputs": [
        {
          "output_type": "execute_result",
          "data": {
            "text/plain": [
              "28"
            ]
          },
          "metadata": {},
          "execution_count": 49
        }
      ]
    },
    {
      "cell_type": "code",
      "source": [
        "# Longs are even larger\n",
        "sys.getsizeof(10**100)"
      ],
      "metadata": {
        "colab": {
          "base_uri": "https://localhost:8080/"
        },
        "id": "KbYQF81CFtSc",
        "outputId": "d218586a-7e13-40b6-a26b-13d64400e415"
      },
      "execution_count": 50,
      "outputs": [
        {
          "output_type": "execute_result",
          "data": {
            "text/plain": [
              "72"
            ]
          },
          "metadata": {},
          "execution_count": 50
        }
      ]
    },
    {
      "cell_type": "code",
      "source": [
        "# Numpy size is much smaller\n",
        "np.dtype(int).itemsize"
      ],
      "metadata": {
        "colab": {
          "base_uri": "https://localhost:8080/"
        },
        "id": "oZ5CLzh2FtUl",
        "outputId": "f82f8615-d2c2-4ebe-8f15-68980625724b"
      },
      "execution_count": 51,
      "outputs": [
        {
          "output_type": "execute_result",
          "data": {
            "text/plain": [
              "8"
            ]
          },
          "metadata": {},
          "execution_count": 51
        }
      ]
    },
    {
      "cell_type": "code",
      "source": [
        "# Lists are even larger\n",
        "# A one-element list\n",
        "sys.getsizeof([1])"
      ],
      "metadata": {
        "colab": {
          "base_uri": "https://localhost:8080/"
        },
        "id": "qk-itUuvEpqN",
        "outputId": "57d8dc6b-4a78-45fa-b5cc-de2cbccc75df"
      },
      "execution_count": 52,
      "outputs": [
        {
          "output_type": "execute_result",
          "data": {
            "text/plain": [
              "80"
            ]
          },
          "metadata": {},
          "execution_count": 52
        }
      ]
    },
    {
      "cell_type": "markdown",
      "source": [
        "**Numpy functions**"
      ],
      "metadata": {
        "id": "oVYaoQHfGgfx"
      }
    },
    {
      "cell_type": "code",
      "source": [
        "# random\n",
        "\n",
        "rand_array = np.random.random(size=2)\n",
        "rand_array"
      ],
      "metadata": {
        "colab": {
          "base_uri": "https://localhost:8080/"
        },
        "id": "MhJMpa2DGiww",
        "outputId": "5fa02812-c993-41f7-d758-e887dbfc549a"
      },
      "execution_count": 53,
      "outputs": [
        {
          "output_type": "execute_result",
          "data": {
            "text/plain": [
              "array([0.22884731, 0.42708688])"
            ]
          },
          "metadata": {},
          "execution_count": 53
        }
      ]
    },
    {
      "cell_type": "code",
      "source": [
        "#  reshape\n",
        "\n",
        "reshape_array = np.arange(10).reshape(2, 5)\n",
        "reshape_array"
      ],
      "metadata": {
        "colab": {
          "base_uri": "https://localhost:8080/"
        },
        "id": "G33Lxh-0GZaP",
        "outputId": "e79bd40d-507b-493f-dfc1-76a70f0cde40"
      },
      "execution_count": 54,
      "outputs": [
        {
          "output_type": "execute_result",
          "data": {
            "text/plain": [
              "array([[0, 1, 2, 3, 4],\n",
              "       [5, 6, 7, 8, 9]])"
            ]
          },
          "metadata": {},
          "execution_count": 54
        }
      ]
    },
    {
      "cell_type": "code",
      "source": [
        "# linspace\n",
        "\n",
        "linspace_array = np.linspace(0, 1, 5)\n",
        "linspace_array"
      ],
      "metadata": {
        "colab": {
          "base_uri": "https://localhost:8080/"
        },
        "id": "xrngfqfZGZfC",
        "outputId": "c686f1c4-4aad-45cf-e2c1-f1716ca2501f"
      },
      "execution_count": 55,
      "outputs": [
        {
          "output_type": "execute_result",
          "data": {
            "text/plain": [
              "array([0.  , 0.25, 0.5 , 0.75, 1.  ])"
            ]
          },
          "metadata": {},
          "execution_count": 55
        }
      ]
    },
    {
      "cell_type": "code",
      "source": [
        "# zeros\n",
        "zeros_array = np.zeros((3,3))\n",
        "zeros_array"
      ],
      "metadata": {
        "colab": {
          "base_uri": "https://localhost:8080/"
        },
        "id": "HIR9wi5uGZht",
        "outputId": "12ff326a-6c28-4315-91ea-f733c5cc7d94"
      },
      "execution_count": 56,
      "outputs": [
        {
          "output_type": "execute_result",
          "data": {
            "text/plain": [
              "array([[0., 0., 0.],\n",
              "       [0., 0., 0.],\n",
              "       [0., 0., 0.]])"
            ]
          },
          "metadata": {},
          "execution_count": 56
        }
      ]
    },
    {
      "cell_type": "code",
      "source": [
        "# Return the identity array.\n",
        "# The identity array is a square array with ones on the main diagonal.\n",
        "\n",
        "np.identity(3)"
      ],
      "metadata": {
        "colab": {
          "base_uri": "https://localhost:8080/"
        },
        "id": "RWFbqmInGZkK",
        "outputId": "2884b8f3-2334-4ae9-a404-60df94c5feda"
      },
      "execution_count": 57,
      "outputs": [
        {
          "output_type": "execute_result",
          "data": {
            "text/plain": [
              "array([[1., 0., 0.],\n",
              "       [0., 1., 0.],\n",
              "       [0., 0., 1.]])"
            ]
          },
          "metadata": {},
          "execution_count": 57
        }
      ]
    },
    {
      "cell_type": "code",
      "source": [
        "# Return a 2-D array with ones on the diagonal and zeros elsewhere.\n",
        "np.eye(3, 3, k=1)"
      ],
      "metadata": {
        "colab": {
          "base_uri": "https://localhost:8080/"
        },
        "id": "HPMUqf9ZGZmx",
        "outputId": "6d58c659-0d04-4da0-d915-ed4ebd19a3b5"
      },
      "execution_count": 58,
      "outputs": [
        {
          "output_type": "execute_result",
          "data": {
            "text/plain": [
              "array([[0., 1., 0.],\n",
              "       [0., 0., 1.],\n",
              "       [0., 0., 0.]])"
            ]
          },
          "metadata": {},
          "execution_count": 58
        }
      ]
    }
  ]
}