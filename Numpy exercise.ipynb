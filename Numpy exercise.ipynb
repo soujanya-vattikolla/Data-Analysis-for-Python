{
  "nbformat": 4,
  "nbformat_minor": 0,
  "metadata": {
    "colab": {
      "name": "Numpy exercise.ipynb",
      "provenance": [],
      "collapsed_sections": [],
      "authorship_tag": "ABX9TyPFSk8q0xwB39/AmhXIkcaB",
      "include_colab_link": true
    },
    "kernelspec": {
      "name": "python3",
      "display_name": "Python 3"
    },
    "language_info": {
      "name": "python"
    }
  },
  "cells": [
    {
      "cell_type": "markdown",
      "metadata": {
        "id": "view-in-github",
        "colab_type": "text"
      },
      "source": [
        "<a href=\"https://colab.research.google.com/github/soujanya-vattikolla/Data-Analysis-for-Python/blob/main/Numpy%20exercise.ipynb\" target=\"_parent\"><img src=\"https://colab.research.google.com/assets/colab-badge.svg\" alt=\"Open In Colab\"/></a>"
      ]
    },
    {
      "cell_type": "markdown",
      "source": [
        "**NumPy exercises**"
      ],
      "metadata": {
        "id": "3h-L7LiQgp0u"
      }
    },
    {
      "cell_type": "code",
      "source": [
        "# Import the numpy package under the name np\n",
        "import numpy as np"
      ],
      "metadata": {
        "id": "iOUZEX4vgu4A"
      },
      "execution_count": 1,
      "outputs": []
    },
    {
      "cell_type": "code",
      "source": [
        "# Print the numpy version and the configuration\n",
        "print(np.__version__)"
      ],
      "metadata": {
        "colab": {
          "base_uri": "https://localhost:8080/"
        },
        "id": "Nn-OYm3YgyrA",
        "outputId": "4e094137-0edb-4b2e-a087-d914ce833797"
      },
      "execution_count": 2,
      "outputs": [
        {
          "output_type": "stream",
          "name": "stdout",
          "text": [
            "1.21.5\n"
          ]
        }
      ]
    },
    {
      "cell_type": "markdown",
      "source": [
        "**Array creation**"
      ],
      "metadata": {
        "id": "3oakRjdyg_D7"
      }
    },
    {
      "cell_type": "code",
      "source": [
        "# Create a numpy array of size 10, filled with zeros.\n",
        "\n",
        "zeros_array = np.zeros(10)\n",
        "zeros_array"
      ],
      "metadata": {
        "colab": {
          "base_uri": "https://localhost:8080/"
        },
        "id": "86DWxPaug9rE",
        "outputId": "e1c26b95-8a21-458b-fc35-7ce955da93bc"
      },
      "execution_count": 3,
      "outputs": [
        {
          "output_type": "execute_result",
          "data": {
            "text/plain": [
              "array([0., 0., 0., 0., 0., 0., 0., 0., 0., 0.])"
            ]
          },
          "metadata": {},
          "execution_count": 3
        }
      ]
    },
    {
      "cell_type": "code",
      "source": [
        "# Create a numpy array with values ranging from 10 to 49\n",
        "\n",
        "arange_array = np.arange(10,50)\n",
        "arange_array"
      ],
      "metadata": {
        "colab": {
          "base_uri": "https://localhost:8080/"
        },
        "id": "trZKFUs6gu_m",
        "outputId": "9d76e93c-9bf0-4164-9b56-302e2aa72ee0"
      },
      "execution_count": 4,
      "outputs": [
        {
          "output_type": "execute_result",
          "data": {
            "text/plain": [
              "array([10, 11, 12, 13, 14, 15, 16, 17, 18, 19, 20, 21, 22, 23, 24, 25, 26,\n",
              "       27, 28, 29, 30, 31, 32, 33, 34, 35, 36, 37, 38, 39, 40, 41, 42, 43,\n",
              "       44, 45, 46, 47, 48, 49])"
            ]
          },
          "metadata": {},
          "execution_count": 4
        }
      ]
    },
    {
      "cell_type": "code",
      "source": [
        "# Create a numpy matrix of 2*2 integers, filled with ones.\n",
        "\n",
        "ones_array = np.ones([2,2],dtype=int)\n",
        "ones_array"
      ],
      "metadata": {
        "colab": {
          "base_uri": "https://localhost:8080/"
        },
        "id": "rCyyEHmYgvCu",
        "outputId": "afcd15eb-4b6b-48d7-8ea7-6c541fca2638"
      },
      "execution_count": 5,
      "outputs": [
        {
          "output_type": "execute_result",
          "data": {
            "text/plain": [
              "array([[1, 1],\n",
              "       [1, 1]])"
            ]
          },
          "metadata": {},
          "execution_count": 5
        }
      ]
    },
    {
      "cell_type": "code",
      "source": [
        "# Create a numpy matrix of 3*2 float numbers, filled with ones.\n",
        "\n",
        "float_array = np.ones([3,2], dtype=float)\n",
        "float_array"
      ],
      "metadata": {
        "colab": {
          "base_uri": "https://localhost:8080/"
        },
        "id": "SZxW0PIIgvF3",
        "outputId": "ce2ef77e-88fc-4515-d5dc-c8849a7ab0c1"
      },
      "execution_count": 6,
      "outputs": [
        {
          "output_type": "execute_result",
          "data": {
            "text/plain": [
              "array([[1., 1.],\n",
              "       [1., 1.],\n",
              "       [1., 1.]])"
            ]
          },
          "metadata": {},
          "execution_count": 6
        }
      ]
    },
    {
      "cell_type": "code",
      "source": [
        "# Given the X numpy array, create a new numpy array with the same shape and type as X, filled with ones.\n",
        "\n",
        "X_array = np.arange(4,dtype=int)\n",
        "print(X_array)\n",
        "\n",
        "new_array = np.ones_like(X_array)\n",
        "print(new_array)"
      ],
      "metadata": {
        "colab": {
          "base_uri": "https://localhost:8080/"
        },
        "id": "79mYFgLogvIe",
        "outputId": "5d50b256-ac58-427f-ec31-f119c941e773"
      },
      "execution_count": 7,
      "outputs": [
        {
          "output_type": "stream",
          "name": "stdout",
          "text": [
            "[0 1 2 3]\n",
            "[1 1 1 1]\n"
          ]
        }
      ]
    },
    {
      "cell_type": "code",
      "source": [
        "# Given the X numpy matrix, create a new numpy matrix with the same shape and type as X, filled with zeros.\n",
        "\n",
        "X_array = np.arange(6)\n",
        "print(X_array)\n",
        "\n",
        "new_array = np.zeros_like(X_array)\n",
        "print(new_array)"
      ],
      "metadata": {
        "colab": {
          "base_uri": "https://localhost:8080/"
        },
        "id": "EL-4kwPrgvLI",
        "outputId": "4451281a-dd21-4f4b-b482-8af626b310f4"
      },
      "execution_count": 8,
      "outputs": [
        {
          "output_type": "stream",
          "name": "stdout",
          "text": [
            "[0 1 2 3 4 5]\n",
            "[0 0 0 0 0 0]\n"
          ]
        }
      ]
    },
    {
      "cell_type": "code",
      "source": [
        "# Create a numpy matrix of 4*4 integers, filled with fives.\n",
        "\n",
        "five_array = np.ones([4,4],dtype=int)*5\n",
        "five_array"
      ],
      "metadata": {
        "colab": {
          "base_uri": "https://localhost:8080/"
        },
        "id": "Kf2vq7E4k1Rd",
        "outputId": "a3fdf832-8fbd-4228-b11e-2a27cecda4c0"
      },
      "execution_count": 9,
      "outputs": [
        {
          "output_type": "execute_result",
          "data": {
            "text/plain": [
              "array([[5, 5, 5, 5],\n",
              "       [5, 5, 5, 5],\n",
              "       [5, 5, 5, 5],\n",
              "       [5, 5, 5, 5]])"
            ]
          },
          "metadata": {},
          "execution_count": 9
        }
      ]
    },
    {
      "cell_type": "code",
      "source": [
        "# Given the X numpy matrix, create a new numpy matrix with the same shape and type as X, filled with sevens.\n",
        "\n",
        "\n",
        "X_array = np.array([[1,3],[5,2]],dtype=int)\n",
        "print(X_array)\n",
        "\n",
        "seven_array = np.ones_like(X_array)*7\n",
        "print(seven_array)"
      ],
      "metadata": {
        "colab": {
          "base_uri": "https://localhost:8080/"
        },
        "id": "wP7GUQF4gvNY",
        "outputId": "b5176712-87b6-450c-f81b-27b1eaf9c004"
      },
      "execution_count": 10,
      "outputs": [
        {
          "output_type": "stream",
          "name": "stdout",
          "text": [
            "[[1 3]\n",
            " [5 2]]\n",
            "[[7 7]\n",
            " [7 7]]\n"
          ]
        }
      ]
    },
    {
      "cell_type": "code",
      "source": [
        "# Create a 3*3 identity numpy matrix with ones on the diagonal and zeros elsewhere.\n",
        "\n",
        "identity_array = np.identity(3)\n",
        "identity_array"
      ],
      "metadata": {
        "colab": {
          "base_uri": "https://localhost:8080/"
        },
        "id": "XWfNO16nk4n8",
        "outputId": "d50f7def-36e4-4f8f-e654-72634018a7bf"
      },
      "execution_count": 11,
      "outputs": [
        {
          "output_type": "execute_result",
          "data": {
            "text/plain": [
              "array([[1., 0., 0.],\n",
              "       [0., 1., 0.],\n",
              "       [0., 0., 1.]])"
            ]
          },
          "metadata": {},
          "execution_count": 11
        }
      ]
    },
    {
      "cell_type": "code",
      "source": [
        "# Create a numpy array, filled with 3 random integer values between 1 and 10.\n",
        "\n",
        "rand_array = np.random.randint(10,size=3)\n",
        "rand_array"
      ],
      "metadata": {
        "colab": {
          "base_uri": "https://localhost:8080/"
        },
        "id": "UJCnAn-DqZ1q",
        "outputId": "cea42d69-a12d-4f58-fcac-4fc0b6ce7c78"
      },
      "execution_count": 12,
      "outputs": [
        {
          "output_type": "execute_result",
          "data": {
            "text/plain": [
              "array([7, 4, 4])"
            ]
          },
          "metadata": {},
          "execution_count": 12
        }
      ]
    },
    {
      "cell_type": "code",
      "source": [
        "# Create a 3*3*3 numpy matrix, filled with random float values.\n",
        "\n",
        "rand_val = np.random.randn(3,3,3)\n",
        "rand_val"
      ],
      "metadata": {
        "colab": {
          "base_uri": "https://localhost:8080/"
        },
        "id": "Ol_cmnwMqZ43",
        "outputId": "d2246e3d-9d9e-461f-f6cb-e8acd684434c"
      },
      "execution_count": 13,
      "outputs": [
        {
          "output_type": "execute_result",
          "data": {
            "text/plain": [
              "array([[[ 0.99155518,  1.22301551,  0.82906891],\n",
              "        [ 0.13213728, -0.26592251, -0.89670693],\n",
              "        [-1.00206734, -0.77761068, -0.31378627]],\n",
              "\n",
              "       [[-1.89872939,  1.12976989,  0.10268614],\n",
              "        [ 1.80758086,  0.44326234, -1.27832333],\n",
              "        [ 0.41619805,  0.08016681, -0.64539025]],\n",
              "\n",
              "       [[ 0.62138866,  0.33252679,  0.18252713],\n",
              "        [-0.45272538, -0.58316208,  0.22615383],\n",
              "        [-0.11502651,  0.27600261, -1.15860778]]])"
            ]
          },
          "metadata": {},
          "execution_count": 13
        }
      ]
    },
    {
      "cell_type": "code",
      "source": [
        "# Create a numpy array with the odd numbers between 1 to 10\n",
        "\n",
        "odd_array = np.arange(1,10,2)\n",
        "odd_array\n"
      ],
      "metadata": {
        "colab": {
          "base_uri": "https://localhost:8080/"
        },
        "id": "Kd_Xnk6kKFXk",
        "outputId": "0baeaa98-c4ff-4fa2-c561-6e1029a0f6b5"
      },
      "execution_count": 14,
      "outputs": [
        {
          "output_type": "execute_result",
          "data": {
            "text/plain": [
              "array([1, 3, 5, 7, 9])"
            ]
          },
          "metadata": {},
          "execution_count": 14
        }
      ]
    },
    {
      "cell_type": "code",
      "source": [
        "# Create a numpy array with numbers from 1 to 10, in descending order.\n",
        "\n",
        "desc_array = np.arange(1,11)[::-1]\n",
        "desc_array"
      ],
      "metadata": {
        "colab": {
          "base_uri": "https://localhost:8080/"
        },
        "id": "-N4TeKQUKFa3",
        "outputId": "b9a10276-8907-4f64-fc36-9e912ecc6870"
      },
      "execution_count": 15,
      "outputs": [
        {
          "output_type": "execute_result",
          "data": {
            "text/plain": [
              "array([10,  9,  8,  7,  6,  5,  4,  3,  2,  1])"
            ]
          },
          "metadata": {},
          "execution_count": 15
        }
      ]
    },
    {
      "cell_type": "code",
      "source": [
        "# Create a 3*3 numpy matrix, filled with values ranging from 0 to 8\n",
        "\n",
        "range_array = np.arange(9).reshape(3,3)\n",
        "range_array"
      ],
      "metadata": {
        "colab": {
          "base_uri": "https://localhost:8080/"
        },
        "id": "VYUm-KQbKFfP",
        "outputId": "a984b4bb-4ca7-4179-c898-4fd49a397997"
      },
      "execution_count": 16,
      "outputs": [
        {
          "output_type": "execute_result",
          "data": {
            "text/plain": [
              "array([[0, 1, 2],\n",
              "       [3, 4, 5],\n",
              "       [6, 7, 8]])"
            ]
          },
          "metadata": {},
          "execution_count": 16
        }
      ]
    },
    {
      "cell_type": "code",
      "source": [
        "# Show the memory size of the given Z numpy matrix\n",
        "\n",
        "Z = np.ones(3,dtype=int)\n",
        "print(Z)\n",
        "print(Z.size)\n",
        "print(Z.itemsize)\n",
        "print(\"%d bytes\"%(Z.size * Z.itemsize))"
      ],
      "metadata": {
        "colab": {
          "base_uri": "https://localhost:8080/"
        },
        "id": "EN4nqzYlKFi5",
        "outputId": "7a7851df-b1d1-40ee-bccf-0c6a44ea32ea"
      },
      "execution_count": 17,
      "outputs": [
        {
          "output_type": "stream",
          "name": "stdout",
          "text": [
            "[1 1 1]\n",
            "3\n",
            "8\n",
            "24 bytes\n"
          ]
        }
      ]
    },
    {
      "cell_type": "markdown",
      "source": [
        "**Array indexation**"
      ],
      "metadata": {
        "id": "X6Ttbx6UbTkI"
      }
    },
    {
      "cell_type": "code",
      "source": [
        "# Given the X numpy matrix, show the first row elements\n",
        "\n",
        "firstrow_X = np.array([\n",
        "              [1,2,3,4],\n",
        "              [5,6,7,8],\n",
        "              [9,0,-1,-2]\n",
        "])\n",
        "\n",
        "firstrow_X[0]"
      ],
      "metadata": {
        "colab": {
          "base_uri": "https://localhost:8080/"
        },
        "id": "f-fosocsqZ8l",
        "outputId": "11cec001-48d8-4887-ea03-99aa71ce1736"
      },
      "execution_count": 18,
      "outputs": [
        {
          "output_type": "execute_result",
          "data": {
            "text/plain": [
              "array([1, 2, 3, 4])"
            ]
          },
          "metadata": {},
          "execution_count": 18
        }
      ]
    },
    {
      "cell_type": "code",
      "source": [
        "# Given the X numpy matrix, show the first element on first row\n",
        "\n",
        "firstelemnt_X = np.array([\n",
        "              [-1,2,3,4],\n",
        "              [5,6,7,8],\n",
        "              [9,0,-1,-2]\n",
        "])\n",
        "\n",
        "firstelemnt_X[0][0]"
      ],
      "metadata": {
        "colab": {
          "base_uri": "https://localhost:8080/"
        },
        "id": "3IHyqvARqZ-6",
        "outputId": "5339d4e2-878e-4e84-e4df-5704da58e623"
      },
      "execution_count": 19,
      "outputs": [
        {
          "output_type": "execute_result",
          "data": {
            "text/plain": [
              "-1"
            ]
          },
          "metadata": {},
          "execution_count": 19
        }
      ]
    },
    {
      "cell_type": "code",
      "source": [
        "# Given the X numpy matrix, show the last element on last row\n",
        "\n",
        "lastelemnt_X = np.array([\n",
        "              [1,12,13,14],\n",
        "              [5,6,7,8],\n",
        "              [9,0,-1,-2]\n",
        "])\n",
        "\n",
        "lastelemnt_X [2][3]"
      ],
      "metadata": {
        "colab": {
          "base_uri": "https://localhost:8080/"
        },
        "id": "1G7J3lAKqaBK",
        "outputId": "fa8512c3-b2fa-4844-d2f8-ac5d7c815fd0"
      },
      "execution_count": 20,
      "outputs": [
        {
          "output_type": "execute_result",
          "data": {
            "text/plain": [
              "-2"
            ]
          },
          "metadata": {},
          "execution_count": 20
        }
      ]
    },
    {
      "cell_type": "code",
      "source": [
        "# Given the X numpy matrix, show the middle row elements\n",
        "\n",
        "middle_X = np.array([\n",
        "              [1,2,3,4],\n",
        "              [5,16,17,8],\n",
        "              [19,0,-1,-2]\n",
        "])\n",
        "\n",
        "middle_X[1:-1, 1:-1]"
      ],
      "metadata": {
        "colab": {
          "base_uri": "https://localhost:8080/"
        },
        "id": "f3VmDdYKcPNi",
        "outputId": "782ae5e5-622c-40f0-eea2-62f9fc8572f0"
      },
      "execution_count": 21,
      "outputs": [
        {
          "output_type": "execute_result",
          "data": {
            "text/plain": [
              "array([[16, 17]])"
            ]
          },
          "metadata": {},
          "execution_count": 21
        }
      ]
    },
    {
      "cell_type": "code",
      "source": [
        "# Given the X numpy matrix, show the last two elements on the last two rows\n",
        "\n",
        "lasttwo_X = np.array([\n",
        "    [1,   2,  3,  4],\n",
        "    [5,   6,  7,  8],\n",
        "    [9,  10, 11, 12],\n",
        "    [13, 14, 15, 16]\n",
        "])\n",
        "\n",
        "lasttwo_X[2:,2:]"
      ],
      "metadata": {
        "colab": {
          "base_uri": "https://localhost:8080/"
        },
        "id": "KUbr24QGcPQL",
        "outputId": "5c03e661-de77-41d3-8b84-4e1162b43b14"
      },
      "execution_count": 22,
      "outputs": [
        {
          "output_type": "execute_result",
          "data": {
            "text/plain": [
              "array([[11, 12],\n",
              "       [15, 16]])"
            ]
          },
          "metadata": {},
          "execution_count": 22
        }
      ]
    },
    {
      "cell_type": "markdown",
      "source": [
        "**Array manipulation**"
      ],
      "metadata": {
        "id": "Nm0DIp1RdhbW"
      }
    },
    {
      "cell_type": "code",
      "source": [
        "# Convert the given integer numpy array to float\n",
        "\n",
        "int_array = np.arange(5)\n",
        "print(int_array)\n",
        "\n",
        "float_array = np.array(int_array,float)\n",
        "print(float_array)"
      ],
      "metadata": {
        "colab": {
          "base_uri": "https://localhost:8080/"
        },
        "id": "wj-f_U1vcPUO",
        "outputId": "a2dc7bb3-3df6-469f-e21c-7c563d0c59ad"
      },
      "execution_count": 23,
      "outputs": [
        {
          "output_type": "stream",
          "name": "stdout",
          "text": [
            "[0 1 2 3 4]\n",
            "[0. 1. 2. 3. 4.]\n"
          ]
        }
      ]
    },
    {
      "cell_type": "code",
      "source": [
        "# Given the X numpy array, set the fifth element equal to 1\n",
        "\n",
        "X_fiftharray = np.array([10,20,30,40,50,60])\n",
        "X_fiftharray\n",
        "\n",
        "X_fiftharray[4] = 1\n",
        "\n",
        "print(X_fiftharray)"
      ],
      "metadata": {
        "colab": {
          "base_uri": "https://localhost:8080/"
        },
        "id": "B0pxae97eS2o",
        "outputId": "6c44598d-5bec-466b-cf27-70af19d7a10c"
      },
      "execution_count": 24,
      "outputs": [
        {
          "output_type": "stream",
          "name": "stdout",
          "text": [
            "[10 20 30 40  1 60]\n"
          ]
        }
      ]
    },
    {
      "cell_type": "code",
      "source": [
        "# Given the X numpy matrix, change the last item on the last row with a 0\n",
        "\n",
        "X_lastarray = np.array ([\n",
        "                     [1,2,3,4],\n",
        "                     [5,6,7,8],\n",
        "                     [9,10,11,12]\n",
        "])\n",
        "\n",
        "X_lastarray[2][3] = 0\n",
        "\n",
        "X_lastarray"
      ],
      "metadata": {
        "colab": {
          "base_uri": "https://localhost:8080/"
        },
        "id": "IZaFZYyteS5I",
        "outputId": "37fd7397-9473-4ddd-d565-26cdfeeb36e8"
      },
      "execution_count": 25,
      "outputs": [
        {
          "output_type": "execute_result",
          "data": {
            "text/plain": [
              "array([[ 1,  2,  3,  4],\n",
              "       [ 5,  6,  7,  8],\n",
              "       [ 9, 10, 11,  0]])"
            ]
          },
          "metadata": {},
          "execution_count": 25
        }
      ]
    },
    {
      "cell_type": "markdown",
      "source": [
        "**Boolean arrays (also called masks)**"
      ],
      "metadata": {
        "id": "nQDmTbijfQr_"
      }
    },
    {
      "cell_type": "code",
      "source": [
        "# Given the X numpy array, make a mask showing negative elements\n",
        "\n",
        "negative_array = np.array([-1,2,3,-9,-8,-7])\n",
        "\n",
        "mask = negative_array <=0\n",
        "mask"
      ],
      "metadata": {
        "colab": {
          "base_uri": "https://localhost:8080/"
        },
        "id": "kS9ZXp5zeyvA",
        "outputId": "0cf8d4be-f4a1-4072-85fc-4a007ba2ecc2"
      },
      "execution_count": 26,
      "outputs": [
        {
          "output_type": "execute_result",
          "data": {
            "text/plain": [
              "array([ True, False, False,  True,  True,  True])"
            ]
          },
          "metadata": {},
          "execution_count": 26
        }
      ]
    },
    {
      "cell_type": "code",
      "source": [
        "# Given the X numpy array, get numbers equal to 2 or 10\n",
        "\n",
        "X_equalarray = np.array([-1, 2, 0, -4, 5, 6, 0, 0, -9, 10])\n",
        "mask = (X_equalarray == 2)| (X_equalarray == 10)\n",
        "mask"
      ],
      "metadata": {
        "colab": {
          "base_uri": "https://localhost:8080/"
        },
        "id": "ZYe5MIXcezSb",
        "outputId": "7d7aa35e-8f0d-47a8-b036-bbb1f9f567d6"
      },
      "execution_count": 27,
      "outputs": [
        {
          "output_type": "execute_result",
          "data": {
            "text/plain": [
              "array([False,  True, False, False, False, False, False, False, False,\n",
              "        True])"
            ]
          },
          "metadata": {},
          "execution_count": 27
        }
      ]
    },
    {
      "cell_type": "markdown",
      "source": [
        "**Logic functions**"
      ],
      "metadata": {
        "id": "WkeBhbwqgmo4"
      }
    },
    {
      "cell_type": "code",
      "source": [
        "# Given the X numpy array, return True if any of its elements is zero\n",
        "\n",
        "any0_array = np.array([1,2,0,3,4,0,8,90])\n",
        "any0_array.any()"
      ],
      "metadata": {
        "colab": {
          "base_uri": "https://localhost:8080/"
        },
        "id": "wuU2EtT_ez6c",
        "outputId": "1602eec5-7a70-489f-f67f-6e6cd322fef4"
      },
      "execution_count": 28,
      "outputs": [
        {
          "output_type": "execute_result",
          "data": {
            "text/plain": [
              "True"
            ]
          },
          "metadata": {},
          "execution_count": 28
        }
      ]
    },
    {
      "cell_type": "markdown",
      "source": [
        "**Summary statistics**"
      ],
      "metadata": {
        "id": "v6JGMCOgg87A"
      }
    },
    {
      "cell_type": "code",
      "source": [
        "# Given the X numpy matrix, show the sum of its columns\n",
        "\n",
        "sum_array = np.array([\n",
        "    [1,   2,  3,  4],\n",
        "    [5,   6,  7,  8],\n",
        "    [9,  10, 11, 12],\n",
        "    [13, 14, 15, 16]\n",
        "])\n",
        "\n",
        "sum_array.sum(axis=0)"
      ],
      "metadata": {
        "colab": {
          "base_uri": "https://localhost:8080/"
        },
        "id": "o2MVxz6MeS7i",
        "outputId": "6ef2bd2f-b00f-4fc2-8bdd-ab6fbe0c1bea"
      },
      "execution_count": 29,
      "outputs": [
        {
          "output_type": "execute_result",
          "data": {
            "text/plain": [
              "array([28, 32, 36, 40])"
            ]
          },
          "metadata": {},
          "execution_count": 29
        }
      ]
    },
    {
      "cell_type": "code",
      "source": [
        "# Given the X numpy array, show the max value of its elements\n",
        "\n",
        "maxval_array = np.array([10,8,70,40,20,9,6,4])\n",
        "maxval_array.max()"
      ],
      "metadata": {
        "colab": {
          "base_uri": "https://localhost:8080/"
        },
        "id": "bMX3ryxleS-A",
        "outputId": "1ee955bb-3df9-4a5a-d4e2-67a0f9a5892c"
      },
      "execution_count": 30,
      "outputs": [
        {
          "output_type": "execute_result",
          "data": {
            "text/plain": [
              "70"
            ]
          },
          "metadata": {},
          "execution_count": 30
        }
      ]
    }
  ]
}